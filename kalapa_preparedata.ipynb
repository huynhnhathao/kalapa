{
  "nbformat": 4,
  "nbformat_minor": 0,
  "metadata": {
    "colab": {
      "name": "kalapa_preparedata.ipynb",
      "provenance": [],
      "collapsed_sections": []
    },
    "kernelspec": {
      "name": "python3",
      "display_name": "Python 3"
    }
  },
  "cells": [
    {
      "cell_type": "code",
      "metadata": {
        "id": "-M7Q0IaTLdaR",
        "colab_type": "code",
        "colab": {}
      },
      "source": [
        "import pandas as pd\n",
        "import numpy as np\n",
        "from fastai import *\n",
        "from fastai.tabular import *\n",
        "import seaborn as sns\n",
        "import matplotlib.pyplot as plt\n",
        "from datetime import datetime, timedelta\n",
        "pd.set_option('display.max_columns', None)\n",
        "pd.set_option('display.max_rows', None)"
      ],
      "execution_count": null,
      "outputs": []
    },
    {
      "cell_type": "code",
      "metadata": {
        "id": "6jHApbYrWeXL",
        "colab_type": "code",
        "colab": {}
      },
      "source": [
        "train_df = pd.read_csv('/content/drive/My Drive/kalapa data/trainV1.csv')\n",
        "test_df = pd.read_csv('/content/drive/My Drive/kalapa data/testV1.csv')\n",
        "label = train_df['label']"
      ],
      "execution_count": null,
      "outputs": []
    },
    {
      "cell_type": "markdown",
      "metadata": {
        "id": "KVp1k7yji0n0",
        "colab_type": "text"
      },
      "source": [
        "# Handle datetime features\n"
      ]
    },
    {
      "cell_type": "code",
      "metadata": {
        "id": "kiCc3VXgi0KM",
        "colab_type": "code",
        "colab": {}
      },
      "source": [
        "DATE = [\"Field_{}\".format(i) for i in [5, 6, 7, 8, 9, 11, 15, 25, 32, 33,34, 35, 40]]\n",
        "DATETIME = [\"Field_{}\".format(i) for i in [1,2,43,44]]\n",
        "date_need_correct = ['Field_34', 'ngaySinh']\n",
        "start_end_date = [f'{cat}_startDate' for cat in ['F', 'E', 'C', 'G', 'A'] ] + [f'{cat}_endDate' for cat in ['F', 'E', 'C', 'G', 'A'] ]\n",
        "date_names = DATE + DATETIME + start_end_date\n"
      ],
      "execution_count": null,
      "outputs": []
    },
    {
      "cell_type": "markdown",
      "metadata": {
        "id": "Sc-NdaYUlmkk",
        "colab_type": "text"
      },
      "source": [
        "**Convert string to date object**"
      ]
    },
    {
      "cell_type": "code",
      "metadata": {
        "id": "5SEVaD8Rlt1j",
        "colab_type": "code",
        "colab": {}
      },
      "source": [
        "def str2date(s):\n",
        "  if s!=s:\n",
        "    return np.nan\n",
        "  try:\n",
        "    date_obj = datetime.strptime(str(s),'%m/%d/%Y')\n",
        "  except:\n",
        "    date_obj = datetime.strptime(str(s), '%Y-%m-%d')\n",
        "  return date_obj\n",
        "def correct_34_ngaysinh(s):\n",
        "    if s != s:\n",
        "        return np.nan\n",
        "    try:\n",
        "        s = int(s)\n",
        "    except ValueError:\n",
        "        s = s.split(\" \")[0]\n",
        "        \n",
        "    return datetime.strptime(str(s)[:6], \"%Y%m\")\n",
        "def datetime_normalize(s):\n",
        "    if s != s:\n",
        "        return np.nan\n",
        "    \n",
        "    s = s.split(\".\")[0]\n",
        "    if s[-1] == \"Z\":\n",
        "        s = s[:-1]\n",
        "        \n",
        "    date, time = s.split(\"T\")\n",
        "    datetime_obj = datetime.strptime(s, \"%Y-%m-%dT%H:%M:%S\")\n",
        "    return datetime.date(datetime_obj)\n",
        "def process_datetime(df):\n",
        "  for col in DATE:\n",
        "    if col == 'Field_34':\n",
        "      continue\n",
        "    df[col] = df[col].apply(str2date)\n",
        "  df['Field_34'] = df['Field_34'].apply(correct_34_ngaysinh)\n",
        "  df['ngaySinh'] = df['ngaySinh'].apply(correct_34_ngaysinh)\n",
        "  for col in DATETIME:\n",
        "    df[col] = df[col].apply(datetime_normalize)\n",
        "  for col in start_end_date:\n",
        "    df[col] = pd.to_datetime(df[col], infer_datetime_format=True)\n",
        "  return df\n",
        "def make_new_features(df):\n",
        "  for cat in ['F', 'E', 'C', 'G', 'A']:\n",
        "    df[f'{cat}_span'] = df[f'{cat}_endDate'] - df[f'{cat}_startDate']\n",
        "  def take_day(d):\n",
        "    return d.days\n",
        "  for cat in ['F', 'E', 'C', 'G', 'A']:\n",
        "    df[f'{cat}_span'] = df[f'{cat}_span'].apply(take_day)\n",
        "  return df\n",
        "\n",
        "\n",
        "#processing datetime data in df\n",
        "train_df = process_datetime(train_df)\n",
        "test_df = process_datetime(test_df)\n",
        "train_df = make_new_features(train_df)\n",
        "test_df = make_new_features(test_df)\n",
        "\n",
        "\n"
      ],
      "execution_count": null,
      "outputs": []
    },
    {
      "cell_type": "markdown",
      "metadata": {
        "id": "iNtCnVZ2bh9i",
        "colab_type": "text"
      },
      "source": [
        "# Handle String features"
      ]
    },
    {
      "cell_type": "code",
      "metadata": {
        "id": "WdMpRlv1pORz",
        "colab_type": "code",
        "colab": {}
      },
      "source": [
        "#process diaChi and maCv columns:\n",
        "def str_normalize(s):\n",
        "  s = str(s).strip().lower()\n",
        "  s = re.sub(' +', \" \", s)\n",
        "  return s\n",
        "def job_category(x):\n",
        "  if type(x) == str:\n",
        "    if \"công nhân\" in x or \"cnv\" in x or \"cn\" in x or \"may công nghiệp\" in x or \"lao động\" in x\\\n",
        "    or \"thợ\" in x or \"coõng nhaõn trửùc tieỏp maựy may coõng nghieọp\" in x or \"c.n\" in x or \"lđ\" in x:\n",
        "        return \"CN\"\n",
        "    elif \"giáo viên\" in x or \"gv\" in x or \"gíao viên\" in x:\n",
        "        return \"GV\"\n",
        "    elif \"nhân viên\" in x or \"kế toán\" in x or \"cán bộ\" in x or \"nv\" in x or \"cb\" in x or \"nhõn viờn\" in x:\n",
        "        return \"NV\"\n",
        "    elif \"tài xế\" in x or \"lái\" in x or \"tài xê\" in x:\n",
        "        return \"TX\"\n",
        "    elif \"quản lý\" in x or \"phó phòng\" in x or \"hiệu phó\" in x:\n",
        "        return \"QL\"\n",
        "    elif \"undefined\" in x:\n",
        "        return \"missing\"\n",
        "    elif \"giám đốc\" in x or \"hiệu trưởng\" in x:\n",
        "        return \"GĐ\"\n",
        "    elif \"phục vụ\" in x:\n",
        "        return \"PV\"\n",
        "    elif \"chuyên viên\" in x:\n",
        "        return  \"CV\"\n",
        "    elif \"bác sĩ\" in x or \"dược sĩ\" in x or \"y sĩ\" in x or \"y sỹ\" in x:\n",
        "        return \"BS\"\n",
        "    elif \"y tá\" in x:\n",
        "        return \"YT\"\n",
        "    elif \"hộ sinh\" in x:\n",
        "        return \"HS\"\n",
        "    elif \"chủ tịch\" in x:\n",
        "        return \"CT\"\n",
        "    elif \"bếp\" in x:\n",
        "        return \"ĐB\"\n",
        "    elif \"sư\" in x:\n",
        "        return \"KS\"\n",
        "    elif \"dưỡng\" in x:\n",
        "        return \"ĐD\"\n",
        "    elif \"kỹ thuật\" in x or \"kĩ thuật\" in x:\n",
        "        return \"KTV\"\n",
        "    elif \"diễn viên\" in x:\n",
        "        return \"DV\"\n",
        "    else:\n",
        "        return \"missing\"\n",
        "  else:\n",
        "    return x    \n",
        "  \n",
        "def process_diaChi_maCv(df):\n",
        "    df[\"maCv\"] = df[\"maCv\"].apply(str_normalize).apply(job_category).astype(\"category\")\n",
        "    return df\n",
        "train_df = process_diaChi_maCv(train_df)\n",
        "test_df = process_diaChi_maCv(test_df)"
      ],
      "execution_count": null,
      "outputs": []
    },
    {
      "cell_type": "code",
      "metadata": {
        "id": "6qax_z7HgWvI",
        "colab_type": "code",
        "colab": {}
      },
      "source": [
        "#combine 2 gender features as 1\n",
        "def combine_gender(s):\n",
        "  x, y = s\n",
        "  \n",
        "  if x != x and y != y:\n",
        "      return np.nan\n",
        "  \n",
        "  if x != x:\n",
        "      return y.lower()\n",
        "  \n",
        "  return x.lower()\n",
        "\n",
        "def process_gender(df):\n",
        "  df[\"gender\"] = df[[\"gioiTinh\", \"info_social_sex\"]].apply(combine_gender, axis=1).astype(\"category\")\n",
        "  df = df.drop(['gioiTinh', 'info_social_sex'],axis = 1)\n",
        "  return df\n",
        "train_df = process_gender(train_df)\n",
        "test_df = process_gender(test_df)"
      ],
      "execution_count": null,
      "outputs": []
    },
    {
      "cell_type": "code",
      "metadata": {
        "id": "v1MwtHyXh1Hr",
        "colab_type": "code",
        "colab": {}
      },
      "source": [
        "def process_misc(df):        \n",
        "  df[\"subscriberCount\"].replace(0, np.nan, inplace=True)\n",
        "  df[\"friendCount\"].replace(0, np.nan, inplace=True)\n",
        "  \n",
        "  df[\"Field_13\"] = df[\"Field_13\"].apply(lambda x: 1 if x == x else 0)\n",
        "  df[\"Field_38\"] = df[\"Field_38\"].map({0: 0.0, 1: 1.0, \"DN\": np.nan, \"TN\": np.nan, \"GD\": np.nan})\n",
        "  df[\"Field_62\"] = df[\"Field_62\"].map({\"I\": 1, \"II\": 2, \"III\": 3, \"IV\": 4, \"V\": 5, \"Ngoài quốc doanh Quận 7\": np.nan})\n",
        "  df[\"Field_47\"] = df[\"Field_47\"].map({\"Zezo\": 0, \"One\": 1, \"Two\": 2, \"Three\": 3, \"Four\": 4})\n",
        "  \n",
        "  df[\"Field_27\"] = df[\"Field_27\"].replace({0.0: np.nan})\n",
        "  df[\"Field_28\"] = df[\"Field_28\"].replace({0.0: np.nan})\n",
        "      \n",
        "  for col in df.columns:\n",
        "    if df[col].dtype.name == \"object\":\n",
        "      df[col] = df[col].apply(str_normalize).astype(\"category\")\n",
        "          \n",
        "  return df\n",
        "train_df = process_misc(train_df)\n",
        "test_df = process_misc(test_df)"
      ],
      "execution_count": null,
      "outputs": []
    },
    {
      "cell_type": "code",
      "metadata": {
        "id": "HsdPabZYjdF_",
        "colab_type": "code",
        "colab": {}
      },
      "source": [
        "#Drop some field we do not need\n",
        "# drop some fields we do not need (homeTown is optionally)\n",
        "DROP = [\"namSinh\"] + \\\n",
        "        [f\"Field_{c}\" for c in [14, 16, 17,18, 24, 26, 30, 31, 37, 52, 57]]\n",
        "train_df.drop(DROP, axis = 1,inplace = True)\n",
        "test_df.drop(DROP, axis =1, inplace = True)\n",
        "\n"
      ],
      "execution_count": null,
      "outputs": []
    },
    {
      "cell_type": "code",
      "metadata": {
        "id": "ZEpByIo0-Hgp",
        "colab_type": "code",
        "colab": {}
      },
      "source": [
        "#process diachi\n",
        "def feature_diaChi(s):\n",
        "    if type(s) == str:\n",
        "        if 'hcm' in s or 'hồ chí minh' in s:\n",
        "            return 'hcm'\n",
        "        elif 'tỉnh' in s:\n",
        "            return 'tinh'\n",
        "        elif 'ha noi' in s or 'hà nội' in s:\n",
        "            return 'hanoi'\n",
        "        else:\n",
        "            return 'tinh'\n",
        "        \n",
        "train_df['diaChi'] =train_df['diaChi'].apply(feature_diaChi)"
      ],
      "execution_count": null,
      "outputs": []
    },
    {
      "cell_type": "code",
      "metadata": {
        "id": "oVOwt07q-NKw",
        "colab_type": "code",
        "colab": {}
      },
      "source": [
        "#process field_46\n",
        "def field_46(s):\n",
        "    if type(s) == str:\n",
        "        \n",
        "        if 'thất nghiệp' in s:\n",
        "            return 'thatnghiep'\n",
        "        elif s == 'nan':\n",
        "            return s\n",
        "        elif 'cty' in s or 'công ty' in s or 'c.ty' in s:\n",
        "            return 'cty'\n",
        "        elif 'đại lý' in s:\n",
        "            return 'daily'\n",
        "        elif 'đại học' in s or 'cđ' in s:\n",
        "            return 'daihoc'\n",
        "        elif 'hộ gia đình' in s or 'hgđ':\n",
        "            return 'giadinh'\n",
        "        else:\n",
        "            return s\n",
        "train_df['Field_46'] =  train_df['Field_46'].apply(field_46)"
      ],
      "execution_count": null,
      "outputs": []
    },
    {
      "cell_type": "code",
      "metadata": {
        "id": "EAWPmAi7-RR4",
        "colab_type": "code",
        "colab": {}
      },
      "source": [
        "#process Field_48\n",
        "def Field_48(s):\n",
        "    if type(s) == str:\n",
        "        if 'hcm' in s or 'hồ chí minh' in s:\n",
        "            return 'hcm'\n",
        "        elif 'tỉnh' in s:\n",
        "            return 'tinh'\n",
        "        elif 'ha noi' in s or 'hà nội' in s:\n",
        "            return 'hanoi'\n",
        "        else:\n",
        "            return s\n",
        "        \n",
        "train_df['Field_48'].apply(feature_diaChi).value_counts()"
      ],
      "execution_count": null,
      "outputs": []
    },
    {
      "cell_type": "code",
      "metadata": {
        "id": "3-ENtxtZRFcO",
        "colab_type": "code",
        "colab": {}
      },
      "source": [
        "dependent = 'label'\n",
        "\n",
        "\n",
        "partner_features = [f'partner{i}_{S}' for i in range(0,6) for S in ['A','B','C','D','E','F','G','H','K','L'] ]\n",
        "\n",
        "cat_names = ['Field_3', 'Field_4', 'Field_12', 'Field_13', 'gioiTinh', 'Field_36', 'Field_39', 'Field_41',\n",
        "                                'Field_47', 'Field_54', 'Field_58', 'Field_61', 'Field_62', 'Field_65', 'Field_66', 'maCv', 'Field_73', \n",
        "                                'Field_76', 'Field_77', 'Field_78', 'gender']\n",
        "\n",
        "num_names = ['Field_10', 'Field_19', 'Field_23', 'Field_27', 'Field_28', 'Field_29', 'Field_59', 'Field_60', 'Field_63', 'Field_64', 'Field_69', 'Field_70',\n",
        "                         'Field_71', 'Field_72', 'Field_74', 'Field_75', 'friendCount', 'C_numOrg', 'C_numQuery', 'G_numOrg', 'G_numQuery', 'A_numOrg', \n",
        "                         'A_numQuery', 'summary_6m', 'summary_3m', 'summary_1m', 'summary_1w', 'Field_78', 'Field_79', 'Field_80', 'Field_81', 'Field_82','Field_20',\n",
        "             'Field_20', ]\n"
      ],
      "execution_count": null,
      "outputs": []
    },
    {
      "cell_type": "code",
      "metadata": {
        "id": "-SXWy2oeS2fR",
        "colab_type": "code",
        "colab": {
          "base_uri": "https://localhost:8080/",
          "height": 195
        },
        "outputId": "bddefd57-091b-4114-c199-0e6a414daf5d"
      },
      "source": [
        "train_df['Field_61'].astype(str)\n",
        "train_df['Field_61']= train_df['Field_61'].replace(to_replace = ['Người sống tại vùng đặc biệt khó khăn', 'Đối tượng cận nghèo', 'Đối tượng nghèo','Người dân tộc thiểu số sống vùng KK, ĐBKK',\n",
        "                                                'Khối DN Ngoài quốc doanh', 'Khối DN có vốn DTNN', 'Khối DN Nhà Nước', 'Doanh nghiệp LLVT','Trợ cấp bảo hiểm thất nghiệp',\n",
        "                                               'Bảo trợ xã hội', 'Hưu trí, trợ cấp mất sức lao động', 'Hưởng chế độ thai sản','Hưu trí, trợ cấp mất sức lao động do NSNN đóng',\n",
        "                                               'Ốm đau dài ngày','Hộ gia đình','Khối HS, Đảng, Đoàn','Học sinh sinh viên','Hộ gia đình làm nông lâm ngư diêm nghiệp',\n",
        "                                               'Khối phường xã, thị trấn,','Khối ngoài công lập','Cán bộ phường xã không chuyên trách','Người sống tại xã đảo, huyện đảo',\n",
        "                                               'Khối hợp tác xã','Hộ SXKD cá thể, tổ hợp tác','Thân nhân sĩ quan nghiệp vụ công an','Đại biểu quốc hội, HĐNN',\n",
        "                                               'Thân nhân người có công','Tham gia kháng chiến','Cựu chiến binh','Trẻ em dưới 6 tuổi','Người đã hiến bộ phận cơ thể',\n",
        "                                               'Người có công','Khối tạm dừng','TG','Tổ chức khác và cá nhân'], value = ['KK', 'KK', 'KK', 'KK',\n",
        "                                                'DN', 'DN', 'DN','DN','MATVIEC', 'MATVIEC','MATVIEC','MATVIEC','MATVIEC','MATVIEC', 'KHAC','KHAC','KHAC','KHAC','KHAC','KHAC','KHAC',\n",
        "                                                                           'KHAC','KHAC','KHAC','KHAC','KHAC','KHAC','KHAC','KHAC','KHAC','KHAC','KHAC','KHAC','KHAC','KHAC'])\n",
        "#drop_field = ['Unnamed: 0','id', 'label','Field_18']\n",
        "#train_df.drop(drop_field, inplace =True, axis = 1)"
      ],
      "execution_count": null,
      "outputs": [
        {
          "output_type": "error",
          "ename": "NameError",
          "evalue": "ignored",
          "traceback": [
            "\u001b[0;31m---------------------------------------------------------------------------\u001b[0m",
            "\u001b[0;31mNameError\u001b[0m                                 Traceback (most recent call last)",
            "\u001b[0;32m<ipython-input-4-870b01fbe95d>\u001b[0m in \u001b[0;36m<module>\u001b[0;34m()\u001b[0m\n\u001b[1;32m     11\u001b[0m                                                                            'KHAC','KHAC','KHAC','KHAC','KHAC','KHAC','KHAC','KHAC','KHAC','KHAC','KHAC','KHAC','KHAC','KHAC'])\n\u001b[1;32m     12\u001b[0m \u001b[0;31m#drop_field = ['Unnamed: 0','id', 'label','Field_18']\u001b[0m\u001b[0;34m\u001b[0m\u001b[0;34m\u001b[0m\u001b[0;34m\u001b[0m\u001b[0m\n\u001b[0;32m---> 13\u001b[0;31m \u001b[0mtrain_df\u001b[0m\u001b[0;34m.\u001b[0m\u001b[0mdrop\u001b[0m\u001b[0;34m(\u001b[0m\u001b[0mdrop_field\u001b[0m\u001b[0;34m,\u001b[0m \u001b[0minplace\u001b[0m \u001b[0;34m=\u001b[0m\u001b[0;32mTrue\u001b[0m\u001b[0;34m,\u001b[0m \u001b[0maxis\u001b[0m \u001b[0;34m=\u001b[0m \u001b[0;36m1\u001b[0m\u001b[0;34m)\u001b[0m\u001b[0;34m\u001b[0m\u001b[0;34m\u001b[0m\u001b[0m\n\u001b[0m",
            "\u001b[0;31mNameError\u001b[0m: name 'drop_field' is not defined"
          ]
        }
      ]
    },
    {
      "cell_type": "code",
      "metadata": {
        "id": "dbzQrCUyTAJd",
        "colab_type": "code",
        "colab": {
          "base_uri": "https://localhost:8080/",
          "height": 54
        },
        "outputId": "3bee9853-e0ef-40f6-d18c-6ad10768feb7"
      },
      "source": [
        "ft = date_names + partner_features + cat_names + num_names\n",
        "left_features = [feature  for feature in train_df.columns if not feature in ft]\n",
        "print(left_features)"
      ],
      "execution_count": null,
      "outputs": [
        {
          "output_type": "stream",
          "text": [
            "['Unnamed: 0', 'id', 'label', 'Field_18', 'Field_21', 'Field_22', 'ngaySinh', 'diaChi', 'Field_38', 'Field_42', 'Field_45', 'Field_46', 'Field_48', 'Field_49', 'Field_50', 'Field_51', 'Field_53', 'Field_55', 'Field_56', 'Field_67', 'Field_68', 'subscriberCount', 'currentLocationLocationId', 'currentLocationLatitude', 'currentLocationLongitude', 'homeTownLocationId', 'homeTownLatitude', 'homeTownLongitude', 'data.basic_info.locale', 'currentLocationCity', 'currentLocationCountry', 'currentLocationName', 'currentLocationState', 'homeTownCity', 'homeTownCountry', 'homeTownName', 'homeTownState', 'topFriends', 'numOrg', 'F_numOrg', 'F_numQuery', 'E_numOrg', 'E_numQuery', 'brief', 'num_of_phone']\n"
          ],
          "name": "stdout"
        }
      ]
    },
    {
      "cell_type": "markdown",
      "metadata": {
        "id": "7ZrsP1WbpnYc",
        "colab_type": "text"
      },
      "source": [
        "#Create model"
      ]
    },
    {
      "cell_type": "code",
      "metadata": {
        "id": "fEmcZXlJTfQh",
        "colab_type": "code",
        "colab": {}
      },
      "source": [
        "label = label.astype('category')\n",
        "procs = [FillMissing, Categorify, Normalize]\n",
        "test = TabularList.from_df(test_df, cat_names= cat_names + date_names, cont_names= num_names, procs = procs)\n",
        "data = (TabularList.from_df(train_df, cat_names=cat_names + date_names, cont_names=num_names, procs=procs)\n",
        "                        .split_by_idx(list(range(0,5000)))\n",
        "                        .label_from_df(cols = label)\n",
        "                        .add_test(test, label=0)\n",
        "                        .databunch())"
      ],
      "execution_count": null,
      "outputs": []
    },
    {
      "cell_type": "code",
      "metadata": {
        "id": "X-BWLxXST4o9",
        "colab_type": "code",
        "colab": {}
      },
      "source": [
        ""
      ],
      "execution_count": null,
      "outputs": []
    }
  ]
}